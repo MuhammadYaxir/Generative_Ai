{
 "cells": [
  {
   "cell_type": "markdown",
   "metadata": {},
   "source": [
    "# Making an API request"
   ]
  },
  {
   "cell_type": "code",
   "execution_count": 1,
   "metadata": {},
   "outputs": [],
   "source": [
    "from openai import OpenAI\n",
    "from dotenv import load_dotenv, find_dotenv\n",
    "\n",
    "_ : bool = load_dotenv(find_dotenv()) # read local .env file\n",
    "\n",
    "client : OpenAI = OpenAI()\n",
    "\n"
   ]
  },
  {
   "cell_type": "code",
   "execution_count": 4,
   "metadata": {},
   "outputs": [
    {
     "name": "stdout",
     "output_type": "stream",
     "text": [
      "In the world of code, there is a concept so profound\n",
      "It’s a journey of function, where magic can be found\n",
      "Recursion is its name, a wondrous dance of wit\n",
      "A concept so exquisite, it’s hard to forget\n",
      "\n",
      "It’s a tale of a function that calls itself again\n",
      "Unraveling a mystery, like a never-ending chain\n",
      "With each repetition, a problem it can solve\n",
      "A loop within a loop, a puzzle to evolve\n",
      "\n",
      "Like a mirror reflecting, an infinite rendezvous\n",
      "Recursion delves deeply, seeking what's never anew\n",
      "It peels away layers, with each echoing call\n",
      "A rhythm of repetition, apprehending it all\n",
      "\n",
      "Yet be wary, dear coder, for recursion can deceive\n",
      "With infinite looping, it can make you grieve\n",
      "But when wielded with care, it’s a tool so divine\n",
      "Unraveling complexities, like a tale so fine\n",
      "\n",
      "So embrace recursion, with courage and poise\n",
      "Let it lead you on a journey, where the code rejoices\n",
      "For in this realm of programming, where creativity abounds\n",
      "Recursion is a symphony, where beauty truly resounds\n"
     ]
    }
   ],
   "source": [
    "from openai.types.chat.chat_completion import ChatCompletion\n",
    "\n",
    "def chat_completion()->str:\n",
    "  completion : ChatCompletion = client.chat.completions.create(\n",
    "    model  = \"gpt-3.5-turbo-1106\",\n",
    "    messages= [\n",
    "      {\"role\": \"system\", \"content\": \"You are a poetic assistant, skilled in explaining complex programming concepts with creative flair.\"},\n",
    "      {\"role\": \"user\", \"content\": \"Compose a poem that explains the concept of recursion in programming.\"}\n",
    "    ]\n",
    "  )\n",
    "\n",
    "  return completion.choices[0].message.content\n",
    "\n",
    "print(chat_completion())"
   ]
  }
 ],
 "metadata": {
  "kernelspec": {
   "display_name": "py311",
   "language": "python",
   "name": "python3"
  },
  "language_info": {
   "codemirror_mode": {
    "name": "ipython",
    "version": 3
   },
   "file_extension": ".py",
   "mimetype": "text/x-python",
   "name": "python",
   "nbconvert_exporter": "python",
   "pygments_lexer": "ipython3",
   "version": "3.11.5"
  },
  "orig_nbformat": 4
 },
 "nbformat": 4,
 "nbformat_minor": 2
}
