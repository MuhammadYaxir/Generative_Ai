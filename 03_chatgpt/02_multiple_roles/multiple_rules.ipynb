{
 "cells": [
  {
   "cell_type": "markdown",
   "metadata": {},
   "source": [
    "# Making an API request"
   ]
  },
  {
   "cell_type": "code",
   "execution_count": 1,
   "metadata": {},
   "outputs": [],
   "source": [
    "from openai import OpenAI\n",
    "from dotenv import load_dotenv, find_dotenv\n",
    "\n",
    "_ : bool = load_dotenv(find_dotenv()) # read local .env file\n",
    "\n",
    "client : OpenAI = OpenAI()\n",
    "\n"
   ]
  },
  {
   "cell_type": "code",
   "execution_count": 3,
   "metadata": {},
   "outputs": [
    {
     "name": "stdout",
     "output_type": "stream",
     "text": [
      "In the world of code, a concept profound,\n",
      "Recursion dances, a solution unbound.\n",
      "Like a mirror reflecting a mirror's reflection,\n",
      "It calls itself, with deep introspection.\n",
      "\n",
      "A function that calls itself, again and again,\n",
      "A loop of elegance, a waltz to explain.\n",
      "Breaking big problems into smaller parts,\n",
      "It unravels complexities, igniting hearts.\n",
      "\n",
      "Like a fractal, repeating its graceful design,\n",
      "Recursion unwinds, with a pattern divine.\n",
      "Each recursive call, a step in the dance,\n",
      "Solving problems with elegant romance.\n",
      "\n",
      "But beware, oh coder, in your recursive quest,\n",
      "To set a base case, to lay down the rest.\n",
      "For without an end, the dance will never cease,\n",
      "And your program will spiral, no longer at peace.\n",
      "\n",
      "So embrace the beauty of recursion's embrace,\n",
      "Let it elevate your code, with elegance and grace.\n",
      "A concept in programming, both simple and profound,\n",
      "Recursion enchants, with its waltz so profound.\n"
     ]
    }
   ],
   "source": [
    "from openai.types.chat.chat_completion import ChatCompletion\n",
    "\n",
    "def chat_completion()->str:\n",
    "  completion : ChatCompletion = client.chat.completions.create(\n",
    "    model  = \"gpt-3.5-turbo-1106\",\n",
    "    messages= [\n",
    "      {\"role\": \"system\", \n",
    "       \"content\": \"You are a poetic assistant, skilled in explaining complex programming concepts with creative flair.\"\n",
    "      },\n",
    "      {\"role\": \"user\", \n",
    "       \"content\": \"Compose a poem that explains the concept of recursion in programming.\"\n",
    "      }\n",
    "    ]\n",
    "  )\n",
    "\n",
    "  return completion.choices[0].message.content\n",
    "\n",
    "print(chat_completion())"
   ]
  }
 ],
 "metadata": {
  "kernelspec": {
   "display_name": "py311",
   "language": "python",
   "name": "python3"
  },
  "language_info": {
   "codemirror_mode": {
    "name": "ipython",
    "version": 3
   },
   "file_extension": ".py",
   "mimetype": "text/x-python",
   "name": "python",
   "nbconvert_exporter": "python",
   "pygments_lexer": "ipython3",
   "version": "3.11.5"
  },
  "orig_nbformat": 4
 },
 "nbformat": 4,
 "nbformat_minor": 2
}
