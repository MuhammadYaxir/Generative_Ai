{
 "cells": [
  {
   "cell_type": "code",
   "execution_count": 1,
   "metadata": {},
   "outputs": [
    {
     "data": {
      "text/plain": [
       "True"
      ]
     },
     "execution_count": 1,
     "metadata": {},
     "output_type": "execute_result"
    }
   ],
   "source": [
    "from dotenv import load_dotenv, find_dotenv\n",
    "\n",
    "_ : bool = load_dotenv(find_dotenv()) # read local .env file\n",
    "\n",
    "_ "
   ]
  },
  {
   "cell_type": "code",
   "execution_count": 9,
   "metadata": {},
   "outputs": [
    {
     "name": "stdout",
     "output_type": "stream",
     "text": [
      "\n",
      "The\n",
      " founder\n",
      " of\n",
      " Pakistan\n",
      " is\n",
      " Muhammad\n",
      " Ali\n",
      " J\n",
      "inn\n",
      "ah\n",
      ".\n",
      " He\n",
      " was\n",
      " a\n",
      " prominent\n",
      " political\n",
      " leader\n",
      " and\n",
      " lawyer\n",
      " who\n",
      " played\n",
      " a\n",
      " key\n",
      " role\n",
      " in\n",
      " the\n",
      " creation\n",
      " of\n",
      " Pakistan\n",
      " as\n",
      " a\n",
      " separate\n",
      " nation\n",
      " for\n",
      " Muslims\n",
      " in\n",
      " British\n",
      " India\n",
      ".\n",
      " J\n",
      "inn\n",
      "ah\n",
      " is\n",
      " known\n",
      " as\n",
      " \"\n",
      "Qu\n",
      "aid\n",
      "-e\n",
      "-A\n",
      "z\n",
      "am\n",
      "\"\n",
      " (\n",
      "Great\n",
      " Leader\n",
      ")\n",
      " in\n",
      " Pakistan\n",
      " and\n",
      " is\n",
      " widely\n",
      " respected\n",
      " for\n",
      " his\n",
      " role\n",
      " in\n",
      " the\n",
      " country\n",
      "'s\n",
      " founding\n",
      ".\n",
      "\n"
     ]
    }
   ],
   "source": [
    "from openai import OpenAI\n",
    "\n",
    "client = OpenAI()\n",
    "\n",
    "stream = client.chat.completions.create(\n",
    "    model=\"gpt-3.5-turbo-1106\",\n",
    "    messages=[{\"role\": \"user\", \"content\": \"Who is founder of Pakistan\"}],\n",
    "    stream=True,\n",
    ")\n",
    "for part in stream:\n",
    "    print(part.choices[0].delta.content or \"\")"
   ]
  }
 ],
 "metadata": {
  "kernelspec": {
   "display_name": "py311",
   "language": "python",
   "name": "python3"
  },
  "language_info": {
   "codemirror_mode": {
    "name": "ipython",
    "version": 3
   },
   "file_extension": ".py",
   "mimetype": "text/x-python",
   "name": "python",
   "nbconvert_exporter": "python",
   "pygments_lexer": "ipython3",
   "version": "3.11.5"
  },
  "orig_nbformat": 4
 },
 "nbformat": 4,
 "nbformat_minor": 2
}
